{
  "nbformat": 4,
  "nbformat_minor": 0,
  "metadata": {
    "colab": {
      "name": "self learning.ipynb",
      "provenance": [],
      "authorship_tag": "ABX9TyN7uYI+v3td6u8bM70HTpZn",
      "include_colab_link": true
    },
    "kernelspec": {
      "name": "python3",
      "display_name": "Python 3"
    },
    "language_info": {
      "name": "python"
    }
  },
  "cells": [
    {
      "cell_type": "markdown",
      "metadata": {
        "id": "view-in-github",
        "colab_type": "text"
      },
      "source": [
        "<a href=\"https://colab.research.google.com/github/MukhamadIqbal/Self-learningg/blob/main/self_learning.ipynb\" target=\"_parent\"><img src=\"https://colab.research.google.com/assets/colab-badge.svg\" alt=\"Open In Colab\"/></a>"
      ]
    },
    {
      "cell_type": "markdown",
      "source": [
        "a.kubus"
      ],
      "metadata": {
        "id": "JV2GHozBaoMc"
      }
    },
    {
      "cell_type": "code",
      "execution_count": 1,
      "metadata": {
        "colab": {
          "base_uri": "https://localhost:8080/"
        },
        "id": "O3FsocdXacXm",
        "outputId": "3c864af8-bd8a-4cc2-efb7-0acf774c2715"
      },
      "outputs": [
        {
          "output_type": "stream",
          "name": "stdout",
          "text": [
            "mencari luas kubus\n",
            "\n",
            "masukan nilai panjang rusuk : 7\n",
            "hasil :  294\n"
          ]
        }
      ],
      "source": [
        "#mencari luas kubus\n",
        "#rumus 6 x r x r\n",
        "\n",
        "print(\"mencari luas kubus\\n\")\n",
        "\n",
        "r = int(input(\"masukan nilai panjang rusuk : \"))\n",
        "\n",
        "luas  = 6 * r * r\n",
        "\n",
        "print(\"hasil : \",luas)\n"
      ]
    },
    {
      "cell_type": "code",
      "source": [
        "#mencari keliling kubus\n",
        "#rumus r x r x r\n",
        "\n",
        "print(\"mencari keliling kubus\\n\")\n",
        "\n",
        "r = int(input(\"masukan nilai panjang rusuk : \"))\n",
        "\n",
        "keliling  = r * r * r\n",
        "\n",
        "print(\"hasil : \",keliling)"
      ],
      "metadata": {
        "colab": {
          "base_uri": "https://localhost:8080/"
        },
        "id": "9V2i7iYKawJa",
        "outputId": "3e449888-0f7e-4ef0-82a2-312e8b376c06"
      },
      "execution_count": 2,
      "outputs": [
        {
          "output_type": "stream",
          "name": "stdout",
          "text": [
            "mencari keliling kubus\n",
            "\n",
            "masukan nilai panjang rusuk : 5\n",
            "hasil :  125\n"
          ]
        }
      ]
    },
    {
      "cell_type": "markdown",
      "source": [
        "b.Balok"
      ],
      "metadata": {
        "id": "qZX37EWba534"
      }
    },
    {
      "cell_type": "code",
      "source": [
        "#mencari luas balok\n",
        "#rumus 2 x (pxl + pxt + lxt)\n",
        "\n",
        "print(\"mencari luas balok\\n\")\n",
        "\n",
        "p = int(input(\"masukan nilai panjang : \"))\n",
        "l = int(input(\"masukan nilai luas : \"))\n",
        "t = int(input(\"masukan nilai tinggi : \"))\n",
        "\n",
        "luas  = 2 * (p * l + p * t + l * t)\n",
        "\n",
        "print(\"hasil : \",luas)"
      ],
      "metadata": {
        "colab": {
          "base_uri": "https://localhost:8080/"
        },
        "id": "dab1PfRlbBrP",
        "outputId": "67f1b066-6ab2-4606-a346-6ce6d0d050f4"
      },
      "execution_count": 3,
      "outputs": [
        {
          "output_type": "stream",
          "name": "stdout",
          "text": [
            "mencari luas balok\n",
            "\n",
            "masukan nilai panjang : 5\n",
            "masukan nilai luas : 7\n",
            "masukan nilai tinggi : 4\n",
            "hasil :  166\n"
          ]
        }
      ]
    },
    {
      "cell_type": "code",
      "source": [
        "#mencari keliling balok\n",
        "#rumus p x l x t\n",
        "\n",
        "print(\"mencari keliling balok\\n\")\n",
        "p = int(input(\"masukan nilai panjang : \"))\n",
        "l = int(input(\"masukan nilai luas : \"))\n",
        "t = int(input(\"masukan nilai tinggi : \"))\n",
        "\n",
        "keliling  = p * l * t\n",
        "\n",
        "print(\"hasil : \",keliling)"
      ],
      "metadata": {
        "colab": {
          "base_uri": "https://localhost:8080/"
        },
        "id": "9ZdQJ0abbRYE",
        "outputId": "540bd8fa-7a1d-4e6a-d7d6-25a52e63f822"
      },
      "execution_count": 4,
      "outputs": [
        {
          "output_type": "stream",
          "name": "stdout",
          "text": [
            "mencari keliling balok\n",
            "\n",
            "masukan nilai panjang : 7\n",
            "masukan nilai luas : 9\n",
            "masukan nilai tinggi : 3\n",
            "hasil :  189\n"
          ]
        }
      ]
    },
    {
      "cell_type": "markdown",
      "source": [
        "c. Tabung"
      ],
      "metadata": {
        "id": "Xs3kJWbtb6pS"
      }
    },
    {
      "cell_type": "code",
      "source": [
        "#mencari luas tabung\n",
        "#rumus 2 x phi x r x (t + r)\n",
        "\n",
        "print(\"mencari luas tabung\\n\")\n",
        "\n",
        "t = int(input(\"masukan nilai tinggi : \"))\n",
        "r = int(input(\"masukan nilai jari jari : \"))\n",
        "phi = 3.14\n",
        "\n",
        "luas  = 2 * phi * r * (t + r)\n",
        "\n",
        "print(\"hasil : \",luas)"
      ],
      "metadata": {
        "colab": {
          "base_uri": "https://localhost:8080/"
        },
        "id": "y7ldrmUwcBLy",
        "outputId": "71d1ddb3-8b77-4f13-c7d1-2fca2d1b2859"
      },
      "execution_count": 6,
      "outputs": [
        {
          "output_type": "stream",
          "name": "stdout",
          "text": [
            "mencari luas tabung\n",
            "\n",
            "masukan nilai tinggi : 6\n",
            "masukan nilai jari jari : 4\n",
            "hasil :  251.20000000000002\n"
          ]
        }
      ]
    },
    {
      "cell_type": "code",
      "source": [
        "#mencari keliling tabung\n",
        "#rumus phi x r x r x t\n",
        "\n",
        "print(\"mencari keliling tabung\\n\")\n",
        "\n",
        "t = int(input(\"masukan nilai tinggi : \"))\n",
        "r = int(input(\"masukan nilai jari jari : \"))\n",
        "phi = 3.14\n",
        "\n",
        "keliling  = phi * r * r * t\n",
        "\n",
        "print(\"hasil : \",keliling)"
      ],
      "metadata": {
        "colab": {
          "base_uri": "https://localhost:8080/"
        },
        "id": "beK5hsXKcPo0",
        "outputId": "559eced9-9234-4ee6-e8a5-1c4643194209"
      },
      "execution_count": 7,
      "outputs": [
        {
          "output_type": "stream",
          "name": "stdout",
          "text": [
            "mencari keliling tabung\n",
            "\n",
            "masukan nilai tinggi : 5\n",
            "masukan nilai jari jari : 7\n",
            "hasil :  769.3000000000001\n"
          ]
        }
      ]
    }
  ]
}