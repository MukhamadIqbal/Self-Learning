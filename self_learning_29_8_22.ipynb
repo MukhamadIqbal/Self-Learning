{
  "nbformat": 4,
  "nbformat_minor": 0,
  "metadata": {
    "colab": {
      "name": "self learning-29_8_22.ipynb",
      "provenance": [],
      "authorship_tag": "ABX9TyOaVYyuFiau0eF6kCY15GmF",
      "include_colab_link": true
    },
    "kernelspec": {
      "name": "python3",
      "display_name": "Python 3"
    },
    "language_info": {
      "name": "python"
    }
  },
  "cells": [
    {
      "cell_type": "markdown",
      "metadata": {
        "id": "view-in-github",
        "colab_type": "text"
      },
      "source": [
        "<a href=\"https://colab.research.google.com/github/MukhamadIqbal/Self-learningg/blob/main/self_learning_29_8_22.ipynb\" target=\"_parent\"><img src=\"https://colab.research.google.com/assets/colab-badge.svg\" alt=\"Open In Colab\"/></a>"
      ]
    },
    {
      "cell_type": "markdown",
      "source": [
        "Self learning"
      ],
      "metadata": {
        "id": "5orgtB13QFTR"
      }
    },
    {
      "cell_type": "markdown",
      "source": [
        "a.persegi\n"
      ],
      "metadata": {
        "id": "PigISjSuRTw6"
      }
    },
    {
      "cell_type": "code",
      "source": [
        "#mencari luas persegi\n",
        "#rumus s x s\n",
        "print(\"mencari luas persegi\\n\")\n",
        "\n",
        "s = int(input(\"masukan sisi : \"))\n",
        "\n",
        "\n",
        "persegi = s * s\n",
        "print(\"hasil : \",persegi)"
      ],
      "metadata": {
        "colab": {
          "base_uri": "https://localhost:8080/"
        },
        "id": "eybvewIDQ-wS",
        "outputId": "28bb9d7f-0e4a-4b70-f73d-81537c45d6ba"
      },
      "execution_count": null,
      "outputs": [
        {
          "output_type": "stream",
          "name": "stdout",
          "text": [
            "mencari luas persegi\n",
            "\n",
            "masukan sisi : 4\n",
            "hasil :  16\n"
          ]
        }
      ]
    },
    {
      "cell_type": "code",
      "execution_count": null,
      "metadata": {
        "colab": {
          "base_uri": "https://localhost:8080/"
        },
        "id": "6yyRJq7bPNwV",
        "outputId": "dcd92e3b-b304-4bae-be3e-5438510e162a"
      },
      "outputs": [
        {
          "output_type": "stream",
          "name": "stdout",
          "text": [
            "mencari keliling persegi\n",
            "masukan sisi : 5\n",
            "hasil :  20\n"
          ]
        }
      ],
      "source": [
        "#mencari keliling persegi\n",
        "#rumus s x 4\n",
        "print(\"mencari keliling persegi\")\n",
        "\n",
        "s = int(input(\"masukan sisi : \"))\n",
        "\n",
        "keliling = s * 4\n",
        "print(\"hasil : \",keliling)\n",
        "\n",
        "\n"
      ]
    },
    {
      "cell_type": "markdown",
      "source": [
        "b. persegi panjang\n"
      ],
      "metadata": {
        "id": "NuDVRB3KkD0j"
      }
    },
    {
      "cell_type": "code",
      "source": [
        "#mencari luas persegi panjang\n",
        "#rumus p x l\n",
        "\n",
        "print(\"mencari luas persegi panjang\\n\")\n",
        "\n",
        "p = int(input(\"masukkan panjang : \"))\n",
        "l = int(input(\"masukkan lebar \\t : \"))\n",
        "\n",
        "luas = p * l\n",
        "\n",
        "print(\"hasil : \",luas)"
      ],
      "metadata": {
        "colab": {
          "base_uri": "https://localhost:8080/"
        },
        "id": "vfLHYVV9ZNMy",
        "outputId": "9aef541a-5130-45b6-f21b-65845819b492"
      },
      "execution_count": null,
      "outputs": [
        {
          "output_type": "stream",
          "name": "stdout",
          "text": [
            "mencari luas persegi panjang\n",
            "\n",
            "masukkan panjang : 4\n",
            "masukkan lebar \t : 2\n",
            "hasil :  8\n"
          ]
        }
      ]
    },
    {
      "cell_type": "code",
      "source": [
        "#mencari keliling persegi panjang\n",
        "#rumus 2 x (p + l)\n",
        "\n",
        "print(\"mencari keliling persegi panjang\\n\")\n",
        "\n",
        "p = int(input(\"masukkan panjang : \"))\n",
        "l = int(input(\"masukkan lebar : \"))\n",
        "\n",
        "keliling = 2 * (p + l)\n",
        "\n",
        "print(\"hasil : \",keliling)"
      ],
      "metadata": {
        "colab": {
          "base_uri": "https://localhost:8080/"
        },
        "id": "1JiAqqW1yg2u",
        "outputId": "d2b246c0-cce7-4ad9-f675-e2e9449271be"
      },
      "execution_count": null,
      "outputs": [
        {
          "output_type": "stream",
          "name": "stdout",
          "text": [
            "mencari keliling persegi panjang\n",
            "\n",
            "masukkan panjang : 10\n",
            "masukkan lebar : 5\n",
            "hasil :  30\n"
          ]
        }
      ]
    },
    {
      "cell_type": "markdown",
      "source": [
        "c. jajar genjang"
      ],
      "metadata": {
        "id": "Q2d9Eg6hsATb"
      }
    },
    {
      "cell_type": "code",
      "source": [
        "#mencari luas jajar genjang\n",
        "#rumus a x t\n",
        "\n",
        "print(\"mencari luas jajar genjang\\n\")\n",
        "\n",
        "a = int(input(\"masukkan nilai alas : \"))\n",
        "t = int(input(\"masukkan nilai tinggi : \"))\n",
        "\n",
        "luas = a * t\n",
        "\n",
        "print(\"hasil : \",luas)"
      ],
      "metadata": {
        "colab": {
          "base_uri": "https://localhost:8080/"
        },
        "id": "xtqvdPlMrYGy",
        "outputId": "5f102af5-2b9e-43b5-e3a3-218b7be5698d"
      },
      "execution_count": null,
      "outputs": [
        {
          "output_type": "stream",
          "name": "stdout",
          "text": [
            "mencari luas jajar genjang\n",
            "\n",
            "masukkan nilai alas : 6\n",
            "masukkan nilai tinggi : 8\n",
            "hasil :  48\n"
          ]
        }
      ]
    },
    {
      "cell_type": "code",
      "source": [
        "#mencari keliling jajar genjang\n",
        "#rumus 2 x (a + b)\n",
        "\n",
        "print(\"mencari keliling jajar genjang\\n\")\n",
        "\n",
        "a = int(input(\"masukkan nilai alas : \"))\n",
        "b = int(input(\"masukkan nilai sisi miring : \"))\n",
        "\n",
        "keliling = 2 * (a + b)\n",
        "\n",
        "print(\"hasil : \",keliling)"
      ],
      "metadata": {
        "colab": {
          "base_uri": "https://localhost:8080/"
        },
        "id": "zgSB9ACcsoGE",
        "outputId": "f547bc75-dff9-455c-960f-c07bcbbd1f95"
      },
      "execution_count": null,
      "outputs": [
        {
          "output_type": "stream",
          "name": "stdout",
          "text": [
            "mencari keliling jajar genjang\n",
            "\n",
            "masukkan nilai alas : 8\n",
            "masukkan nilai sisi miring : 9\n",
            "hasil :  34\n"
          ]
        }
      ]
    },
    {
      "cell_type": "markdown",
      "source": [
        "d. segitiga"
      ],
      "metadata": {
        "id": "oI6n6WtBueiQ"
      }
    },
    {
      "cell_type": "code",
      "source": [
        "#mencari luas segitiga\n",
        "#rumus 1/2 x a x t\n",
        "\n",
        "print(\"mencari luas segitiga\\n\")\n",
        "\n",
        "a = int(input(\"masukan nilai sisi : \"))\n",
        "t = int(input(\"masukkan nilai tinggi : \"))\n",
        "\n",
        "luas = 1/2 * a * t\n",
        "\n",
        "print(\"hasil : \",luas)"
      ],
      "metadata": {
        "colab": {
          "base_uri": "https://localhost:8080/"
        },
        "id": "HAR25EB6ukvY",
        "outputId": "9cf47a33-55eb-4e69-eae2-7a6832240739"
      },
      "execution_count": null,
      "outputs": [
        {
          "output_type": "stream",
          "name": "stdout",
          "text": [
            "mencari luas segitiga\n",
            "\n",
            "masukan nilai sisi : 6\n",
            "masukkan nilai tinggi : 8\n",
            "hasil :  24.0\n"
          ]
        }
      ]
    },
    {
      "cell_type": "code",
      "source": [
        "#mencari keliling segitiga\n",
        "#rumus a + b + c\n",
        "\n",
        "print(\"menghitung keliling segitiga\\n\")\n",
        "\n",
        "a = int(input(\"masukan nilai sisi 1 : \"))\n",
        "b = int(input(\"masukkan nilai sisi 2 : \"))\n",
        "c = int(input(\"masukkan nilai sisi 3 : \"))\n",
        "\n",
        "keliling = a + b + c\n",
        "\n",
        "print(\"hasil : \",keliling)"
      ],
      "metadata": {
        "colab": {
          "base_uri": "https://localhost:8080/"
        },
        "id": "6zbSvzN7vVVi",
        "outputId": "e5a7410b-aab2-4820-fe67-0d40a62769ca"
      },
      "execution_count": null,
      "outputs": [
        {
          "output_type": "stream",
          "name": "stdout",
          "text": [
            "menghitung keliling segitiga\n",
            "\n",
            "masukan nilai sisi 1 : 6\n",
            "masukkan nilai sisi 2 : 9\n",
            "masukkan nilai sisi 3 : 3\n",
            "hasil :  18\n"
          ]
        }
      ]
    }
  ]
}