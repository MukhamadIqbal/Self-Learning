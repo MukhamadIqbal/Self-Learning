{
  "nbformat": 4,
  "nbformat_minor": 0,
  "metadata": {
    "colab": {
      "provenance": [],
      "authorship_tag": "ABX9TyOTe9uDpU1lx3SOB5+LSmWB",
      "include_colab_link": true
    },
    "kernelspec": {
      "name": "python3",
      "display_name": "Python 3"
    },
    "language_info": {
      "name": "python"
    }
  },
  "cells": [
    {
      "cell_type": "markdown",
      "metadata": {
        "id": "view-in-github",
        "colab_type": "text"
      },
      "source": [
        "<a href=\"https://colab.research.google.com/github/MukhamadIqbal/Self-learning/blob/main/Self_Learning_1__Perkenalan_Diri.ipynb\" target=\"_parent\"><img src=\"https://colab.research.google.com/assets/colab-badge.svg\" alt=\"Open In Colab\"/></a>"
      ]
    },
    {
      "cell_type": "code",
      "execution_count": null,
      "metadata": {
        "colab": {
          "base_uri": "https://localhost:8080/"
        },
        "id": "XMWNhi0O42Vs",
        "outputId": "7e638225-52c0-4159-909b-a21ac2f0d21f"
      },
      "outputs": [
        {
          "output_type": "stream",
          "name": "stdout",
          "text": [
            "Seseorang yang mencari tahu tentang AI\n",
            "\n",
            "Nama\t\t:Mukhamad Iqbal\n",
            "Jenis Kelamin\t:Laki-Laki\n",
            "Alamat\t\t:Jungsemi\n",
            "Hobi\t\t:Sepak Bola\n",
            "Pendidikan\t:S1 - Ekonomi Syariah\n",
            "Pekerjaan\t:Mahasiswa\n",
            "Media Sosial\t:MukhamadIqbal_475\n",
            "Kutipan Faforit\t: \n",
            "\n",
            "Dijalanin aja\n",
            "\n",
            "Pengalaman\t: \n",
            "\t- Organisasi SMP\n"
          ]
        }
      ],
      "source": [
        "print(\"Seseorang yang mencari tahu tentang AI\\n\")\n",
        "\n",
        "input(\"Nama\\t\\t:\")\n",
        "input(\"Jenis Kelamin\\t:\")\n",
        "input(\"Alamat\\t\\t:\")\n",
        "input(\"Hobi\\t\\t:\")\n",
        "input(\"Pendidikan\\t:\")\n",
        "input(\"Pekerjaan\\t:\")\n",
        "input(\"Media Sosial\\t:\")\n",
        "input(\"Kutipan Faforit\\t: \\n\\n\")\n",
        "print()\n",
        "print(\"Pengalaman\\t: \")\n",
        "print(\"\\t- Organisasi SD\")"
      ]
    }
  ]
}